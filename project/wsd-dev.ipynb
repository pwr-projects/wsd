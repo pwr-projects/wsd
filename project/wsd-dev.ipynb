{
 "cells": [
  {
   "cell_type": "code",
   "execution_count": 1,
   "metadata": {},
   "outputs": [],
   "source": [
    "%load_ext autoreload\n",
    "%autoreload 2"
   ]
  },
  {
   "cell_type": "code",
   "execution_count": 2,
   "metadata": {},
   "outputs": [
    {
     "name": "stderr",
     "output_type": "stream",
     "text": [
      "/usr/local/lib/python3.5/dist-packages/tqdm/autonotebook/__init__.py:14: TqdmExperimentalWarning: Using `tqdm.autonotebook.tqdm` in notebook mode. Use `tqdm.tqdm` instead to force console mode (e.g. in jupyter console)\n",
      "  \" (e.g. in jupyter console)\", TqdmExperimentalWarning)\n"
     ]
    }
   ],
   "source": [
    "from tqdm.autonotebook import tqdm\n",
    "from wsd import *"
   ]
  },
  {
   "cell_type": "code",
   "execution_count": 3,
   "metadata": {},
   "outputs": [
    {
     "data": {
      "application/vnd.jupyter.widget-view+json": {
       "model_id": "",
       "version_major": 2,
       "version_minor": 0
      },
      "text/plain": [
       "HBox(children=(IntProgress(value=0, description='Filtering polish', max=504102, style=ProgressStyle(descriptio…"
      ]
     },
     "metadata": {},
     "output_type": "display_data"
    },
    {
     "name": "stdout",
     "output_type": "stream",
     "text": [
      "\r"
     ]
    }
   ],
   "source": [
    "remote_embeddings_address = 'http://10.17.5.15:4000'\n",
    "stop_words_file = 'polish.stopwords.txt'\n",
    "\n",
    "sw = StopWord(stop_words_file)\n",
    "wn = Wordnet(plwn.load_default())\n",
    "we = RemoteWordEmbedding(remote_embeddings_address)\n",
    "se = RemoteSenseEmbedding(remote_embeddings_address)"
   ]
  },
  {
   "cell_type": "code",
   "execution_count": 7,
   "metadata": {
    "scrolled": true
   },
   "outputs": [
    {
     "data": {
      "application/vnd.jupyter.widget-view+json": {
       "model_id": "",
       "version_major": 2,
       "version_minor": 0
      },
      "text/plain": [
       "HBox(children=(IntProgress(value=0, description='Processing word and sense embeddings', max=3, style=ProgressS…"
      ]
     },
     "metadata": {},
     "output_type": "display_data"
    },
    {
     "name": "stderr",
     "output_type": "stream",
     "text": [
      "/usr/local/lib/python3.5/dist-packages/scipy/spatial/distance.py:702: RuntimeWarning: invalid value encountered in double_scalars\n",
      "  dist = 1.0 - uv / np.sqrt(uu * vv)\n"
     ]
    },
    {
     "name": "stdout",
     "output_type": "stream",
     "text": [
      "\r",
      "* drzwiach : ruchoma przegroda (zazwyczaj pionowa), element zamykający otwór w ścianie budynku, ściance mebli, karoserii pojazdu wraz z konstrukcją niezbędną do umocowania tego elementu.\n",
      "* domu : budynek przeznaczony na mieszkania, także oficyna.\n",
      "* zamek : mechanizm lub urządzenie do zamykania drzwi, szuflad, walizek.\n"
     ]
    }
   ],
   "source": [
    "# text = 'zamek królewski'\n",
    "# text = 'zamek w spodniach'\n",
    "# text = 'zamek w pistolecie'\n",
    "text = 'zamek w drzwiach od domu'\n",
    "# text = 'zamek króla'\n",
    "\n",
    "wsd = WSD(we, se, sw, wn)\n",
    "wsd_out = wsd.wsd(text, use_related=False)\n",
    "\n",
    "for word, word_out in wsd_out.items():\n",
    "    lemma, sense = word_out\n",
    "    print('*', word, ':', get_senses(lemma, wn).get(sense))"
   ]
  }
 ],
 "metadata": {
  "kernelspec": {
   "display_name": "Python 3",
   "language": "python",
   "name": "python3"
  },
  "language_info": {
   "codemirror_mode": {
    "name": "ipython",
    "version": 3
   },
   "file_extension": ".py",
   "mimetype": "text/x-python",
   "name": "python",
   "nbconvert_exporter": "python",
   "pygments_lexer": "ipython3",
   "version": "3.5.2"
  }
 },
 "nbformat": 4,
 "nbformat_minor": 2
}
