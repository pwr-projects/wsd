{
 "cells": [
  {
   "cell_type": "code",
   "execution_count": 25,
   "metadata": {},
   "outputs": [],
   "source": [
    "import morfeusz2\n",
    "import plwn"
   ]
  },
  {
   "cell_type": "code",
   "execution_count": 26,
   "metadata": {},
   "outputs": [],
   "source": [
    "stop_words_file = 'polish.stopwords.txt'"
   ]
  },
  {
   "cell_type": "code",
   "execution_count": 27,
   "metadata": {},
   "outputs": [],
   "source": [
    "wn = plwn.load_default()"
   ]
  },
  {
   "cell_type": "code",
   "execution_count": 28,
   "metadata": {},
   "outputs": [],
   "source": [
    "class Wordnet:\n",
    "    \n",
    "    def __init__(self, wordnet):\n",
    "        self._wordnet = wordnet\n",
    "        self._lexical_units = self._valid_lexical_units()\n",
    "        \n",
    "    def _valid_lexical_units(self):\n",
    "        return [(lu.lemma, lu.synset, lu.definition) for lu in self._wordnet.lexical_units() if lu.is_polish and lu.definition is not None]\n",
    "    \n",
    "    def senses(self, word):\n",
    "        return [lu for lu in self._lexical_units if lu[0] == word]\n"
   ]
  },
  {
   "cell_type": "code",
   "execution_count": 29,
   "metadata": {},
   "outputs": [],
   "source": [
    "class StopWord:\n",
    "    \n",
    "    def __init__(self, file):\n",
    "        self._stop_words = self._load_file(file)\n",
    "    \n",
    "    @property\n",
    "    def stop_words(self):\n",
    "        return self._stop_words\n",
    "    \n",
    "    def _load_file(self, file):\n",
    "        f = open(file, encoding='utf-8')\n",
    "        lines = f.read().splitlines()\n",
    "        return lines\n",
    "    \n",
    "    def is_stop_word(word):\n",
    "        return word in self._stop_words"
   ]
  },
  {
   "cell_type": "code",
   "execution_count": 30,
   "metadata": {},
   "outputs": [],
   "source": [
    "wn = Wordnet(wn)"
   ]
  },
  {
   "cell_type": "code",
   "execution_count": 31,
   "metadata": {},
   "outputs": [],
   "source": [
    "sw = StopWord(stop_words_file)"
   ]
  },
  {
   "cell_type": "code",
   "execution_count": 32,
   "metadata": {},
   "outputs": [],
   "source": [
    "morf = morfeusz2.Morfeusz()"
   ]
  },
  {
   "cell_type": "code",
   "execution_count": null,
   "metadata": {},
   "outputs": [],
   "source": []
  }
 ],
 "metadata": {
  "kernelspec": {
   "display_name": "Python 3",
   "language": "python",
   "name": "python3"
  },
  "language_info": {
   "codemirror_mode": {
    "name": "ipython",
    "version": 3
   },
   "file_extension": ".py",
   "mimetype": "text/x-python",
   "name": "python",
   "nbconvert_exporter": "python",
   "pygments_lexer": "ipython3",
   "version": "3.5.2"
  }
 },
 "nbformat": 4,
 "nbformat_minor": 2
}
