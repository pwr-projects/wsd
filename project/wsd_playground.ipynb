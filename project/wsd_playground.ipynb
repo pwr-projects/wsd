{
 "cells": [
  {
   "cell_type": "code",
   "execution_count": 1,
   "metadata": {},
   "outputs": [],
   "source": [
    "import morfeusz2\n",
    "import plwn"
   ]
  },
  {
   "cell_type": "code",
   "execution_count": 2,
   "metadata": {},
   "outputs": [],
   "source": [
    "stop_words_file = 'polish.stopwords.txt'"
   ]
  },
  {
   "cell_type": "code",
   "execution_count": 3,
   "metadata": {},
   "outputs": [],
   "source": [
    "wn = plwn.load_default()"
   ]
  },
  {
   "cell_type": "code",
   "execution_count": 4,
   "metadata": {},
   "outputs": [],
   "source": [
    "class Wordnet:\n",
    "    \n",
    "    def __init__(self, wordnet):\n",
    "        self._wordnet = wordnet\n",
    "        self._lexical_units = self._valid_lexical_units()\n",
    "        \n",
    "    def _valid_lexical_units(self):\n",
    "        return [(lu.lemma, lu.synset, lu.definition) for lu in self._wordnet.lexical_units() if lu.is_polish and lu.definition is not None]\n",
    "    \n",
    "    def senses(self, word):\n",
    "        return [lu for lu in self._lexical_units if lu[0] == word]\n"
   ]
  },
  {
   "cell_type": "code",
   "execution_count": 5,
   "metadata": {},
   "outputs": [],
   "source": [
    "class StopWord:\n",
    "    \n",
    "    def __init__(self, file):\n",
    "        self._stop_words = self._load_file(file)\n",
    "    \n",
    "    @property\n",
    "    def stop_words(self):\n",
    "        return self._stop_words\n",
    "    \n",
    "    def _load_file(self, file):\n",
    "        f = open(file, encoding='utf-8')\n",
    "        lines = f.read().splitlines()\n",
    "        return lines\n",
    "    \n",
    "    def is_stop_word(self, word):\n",
    "        return word.lower() in self._stop_words"
   ]
  },
  {
   "cell_type": "code",
   "execution_count": 6,
   "metadata": {},
   "outputs": [],
   "source": [
    "def clean_text(text, sw):\n",
    "    text_without_stop_words = [word for word in text.split() if not sw.is_stop_word(word)]\n",
    "    text_without_stop_words = ' '.join(text_without_stop_words)\n",
    "    return text_without_stop_words"
   ]
  },
  {
   "cell_type": "code",
   "execution_count": 7,
   "metadata": {},
   "outputs": [],
   "source": [
    "wn = Wordnet(wn)"
   ]
  },
  {
   "cell_type": "code",
   "execution_count": 8,
   "metadata": {},
   "outputs": [],
   "source": [
    "sw = StopWord(stop_words_file)"
   ]
  },
  {
   "cell_type": "code",
   "execution_count": 9,
   "metadata": {},
   "outputs": [],
   "source": [
    "morf = morfeusz2.Morfeusz()"
   ]
  },
  {
   "cell_type": "code",
   "execution_count": 17,
   "metadata": {},
   "outputs": [],
   "source": [
    "text = 'Zamek Piotr to ogromna i piękna budowla obronna'\n",
    "text_without_stop_words = clean_text(text, sw)"
   ]
  },
  {
   "cell_type": "code",
   "execution_count": 18,
   "metadata": {},
   "outputs": [
    {
     "data": {
      "text/plain": [
       "[(0, 1, ('Zamek', 'zamek:s1', 'subst:sg:nom.acc:m3', ['nazwa pospolita'], [])),\n",
       " (0, 1, ('Zamek', 'zamek:s2', 'subst:sg:nom.acc:m3', ['nazwa pospolita'], [])),\n",
       " (1, 2, ('Piotr', 'Piotr:s2', 'subst:sg:nom:m1', ['nazwisko'], [])),\n",
       " (1,\n",
       "  2,\n",
       "  ('Piotr',\n",
       "   'Piotr:s3',\n",
       "   'subst:sg.pl:nom.gen.dat.acc.inst.loc.voc:f',\n",
       "   ['nazwisko'],\n",
       "   [])),\n",
       " (1, 2, ('Piotr', 'Piotr:s1', 'subst:sg:nom:m1', ['imię'], [])),\n",
       " (2, 3, ('ogromna', 'ogromny', 'adj:sg:nom.voc:f:pos', [], [])),\n",
       " (3, 4, ('piękna', 'piękny', 'adj:sg:nom.voc:f:pos', [], [])),\n",
       " (3, 4, ('piękna', 'piękno', 'subst:sg:gen:n:ncol', ['nazwa pospolita'], [])),\n",
       " (3,\n",
       "  4,\n",
       "  ('piękna',\n",
       "   'piękno',\n",
       "   'subst:pl:nom.acc.voc:n:ncol',\n",
       "   ['nazwa pospolita'],\n",
       "   [])),\n",
       " (4, 5, ('budowla', 'budowla', 'subst:sg:nom:f', ['nazwa pospolita'], [])),\n",
       " (5, 6, ('obronna', 'obronny', 'adj:sg:nom.voc:f:pos', [], []))]"
      ]
     },
     "execution_count": 18,
     "metadata": {},
     "output_type": "execute_result"
    }
   ],
   "source": [
    "morf.analyse(text_without_stop_words)"
   ]
  },
  {
   "cell_type": "code",
   "execution_count": 19,
   "metadata": {},
   "outputs": [
    {
     "data": {
      "text/plain": [
       "[('zamek',\n",
       "  <Synset id=4189 lemma='zamek' pos=<PoS.noun: 'noun'> variant=1>,\n",
       "  'warowna budowla mieszkalna, rezydencja pana, króla, księcia lub magnata.'),\n",
       " ('zamek',\n",
       "  <Synset id=4190 lemma='zamek' pos=<PoS.noun: 'noun'> variant=2>,\n",
       "  'mechanizm lub urządzenie do zamykania drzwi, szuflad, walizek.'),\n",
       " ('zamek',\n",
       "  <Synset id=46716 lemma='zamek błyskawiczny' pos=<PoS.noun: 'noun'> variant=1 [+ 3 unit(s)]>,\n",
       "  'zapięcie przy ubraniu, suwak, ekler.'),\n",
       " ('zamek',\n",
       "  <Synset id=43594 lemma='zamek' pos=<PoS.noun: 'noun'> variant=4>,\n",
       "  'mechanizm broni palnej służący do zamykania na czas wystrzału i otwierania po strzale tylnej części lufy.'),\n",
       " ('zamek',\n",
       "  <Synset id=43596 lemma='zamek' pos=<PoS.noun: 'noun'> variant=7>,\n",
       "  'zagranie taktyczne w hokeju; zamknięcie przeciwnika w jego tercji lodowiska/boiska.'),\n",
       " ('zamek',\n",
       "  <Synset id=46718 lemma='zamek' pos=<PoS.noun: 'noun'> variant=3>,\n",
       "  'urządzenie do łączenia lub zabezpieczania w ustalonym położeniu elementów maszyny.'),\n",
       " ('zamek',\n",
       "  <Synset id=52769 lemma='zamek' pos=<PoS.noun: 'noun'> variant=5>,\n",
       "  'blokada w informatyce.')]"
      ]
     },
     "execution_count": 19,
     "metadata": {},
     "output_type": "execute_result"
    }
   ],
   "source": [
    "wn.senses('zamek')"
   ]
  },
  {
   "cell_type": "code",
   "execution_count": null,
   "metadata": {},
   "outputs": [],
   "source": []
  }
 ],
 "metadata": {
  "kernelspec": {
   "display_name": "Python 3",
   "language": "python",
   "name": "python3"
  },
  "language_info": {
   "codemirror_mode": {
    "name": "ipython",
    "version": 3
   },
   "file_extension": ".py",
   "mimetype": "text/x-python",
   "name": "python",
   "nbconvert_exporter": "python",
   "pygments_lexer": "ipython3",
   "version": "3.5.2"
  }
 },
 "nbformat": 4,
 "nbformat_minor": 2
}
